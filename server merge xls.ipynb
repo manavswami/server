{
 "cells": [
  {
   "cell_type": "code",
   "execution_count": 14,
   "id": "edc13053",
   "metadata": {},
   "outputs": [
    {
     "name": "stdout",
     "output_type": "stream",
     "text": [
      "Requirement already satisfied: openpyxl in /usr/local/lib/python3.8/dist-packages (3.0.7)\n",
      "Requirement already satisfied: et-xmlfile in /usr/local/lib/python3.8/dist-packages (from openpyxl) (1.1.0)\n",
      "\u001b[33mWARNING: Running pip as root will break packages and permissions. You should install packages reliably by using venv: https://pip.pypa.io/warnings/venv\u001b[0m\n"
     ]
    }
   ],
   "source": [
    "!pip install openpyxl\n",
    "\n",
    "\n",
    "import os\n",
    "from openpyxl import Workbook\n",
    "\n",
    "#=====New Code====#\n",
    "from openpyxl import load_workbook\n",
    "import os"
   ]
  },
  {
   "cell_type": "code",
   "execution_count": 15,
   "id": "1b761606",
   "metadata": {
    "collapsed": true
   },
   "outputs": [
    {
     "name": "stdout",
     "output_type": "stream",
     "text": [
      "EXP33.xlsx\n",
      "EXP40.xlsx\n",
      "EXP6.xlsx\n",
      "EXP18.xlsx\n",
      "EXP35.xlsx\n",
      "EXP46.xlsx\n",
      "EXP1.xlsx\n",
      "EXP39.xlsx\n",
      "EXP29.xlsx\n",
      "EXP37.xlsx\n",
      "EXP44.xlsx\n",
      "EXP34.xlsx\n",
      "EXP48.xlsx\n",
      "EXP2.xlsx\n",
      "EXP45.xlsx\n",
      "EXP22.xlsx\n",
      "EXP42.xlsx\n",
      "EXP8.xlsx\n",
      "EXP38.xlsx\n",
      "EXP14.xlsx\n",
      "EXP0.xlsx\n",
      "EXP30.xlsx\n",
      "EXP25.xlsx\n",
      "EXP36.xlsx\n",
      "EXP41.xlsx\n",
      "EXP28.xlsx\n",
      "EXP4.xlsx\n",
      "EXP24.xlsx\n",
      "EXP26.xlsx\n",
      "EXP15.xlsx\n",
      "EXP11.xlsx\n",
      "EXP10.xlsx\n",
      "EXP13.xlsx\n",
      "EXP5.xlsx\n",
      "EXP43.xlsx\n",
      "EXP19.xlsx\n",
      "EXP31.xlsx\n",
      "EXP12.xlsx\n",
      "EXP7.xlsx\n",
      "EXP9.xlsx\n",
      "EXP3.xlsx\n",
      "EXP20.xlsx\n",
      "EXP21.xlsx\n",
      "EXP23.xlsx\n",
      "EXP47.xlsx\n",
      "EXP27.xlsx\n",
      "EXP17.xlsx\n",
      "EXP16.xlsx\n",
      "EXP32.xlsx\n"
     ]
    }
   ],
   "source": [
    "dir_containing_files = \"/root/upload/xls file\"\n",
    "dest_wb = Workbook()\n",
    "for root, dir, filenames in os.walk(dir_containing_files):\n",
    "    for file in filenames:\n",
    "        print(file)\n",
    "        file_name = file.split('.')[0]\n",
    "        # Absolute Path for Excel files\n",
    "        file_path = os.path.abspath(os.path.join(root, file))\n",
    "\n",
    "        # Create new sheet in destination Workbook\n",
    "        dest_wb.create_sheet(file_name)\n",
    "        dest_ws = dest_wb[file_name]\n",
    "\n",
    "       \n",
    "\n",
    "        # Read source data\n",
    "        source_wb = load_workbook(file_path)\n",
    "        source_sheet = source_wb.active\n",
    "        for row in source_sheet.rows:\n",
    "            for cell in row:\n",
    "                dest_ws[cell.coordinate] = cell.value\n",
    "        \n",
    "\n",
    "dest_wb.save(\"yearly_sales.xlsx\")\n",
    "        \n",
    "        \n",
    "        "
   ]
  },
  {
   "cell_type": "code",
   "execution_count": 21,
   "id": "b40c4815",
   "metadata": {},
   "outputs": [],
   "source": [
    "# file =(\"/root/folder/Amcrest\")\n",
    "# newData = pds.read_excel(file)\n",
    "# newData\n",
    "\n",
    "import pandas as pd\n",
    "\n",
    "newData = pd.read_excel(\"yearly_sales.xlsx\")"
   ]
  },
  {
   "cell_type": "code",
   "execution_count": 16,
   "id": "e82615a3",
   "metadata": {
    "collapsed": true
   },
   "outputs": [
    {
     "name": "stdout",
     "output_type": "stream",
     "text": [
      "2021-03-01 00:00:00.000\n",
      "1X40HC CONTAINER:BALESOF USED CREDENTIAL CLOTHING(ROPACREDENCIAL USADA)O THE BEGINNING OF THE VOYAGE. SHIPPER AND ANY PARTY TO THIS BILL OFND PRACTICE THE CARRIER HAS ABSOLUTELY NO CONTROL ON CARGO ONCEIS MAY BE DONE WITHOUT SURRENDERING ORIGINAL BILL OF LADING TO SHIPNY CLAIM DUE TO DELIVER [MORE]\n",
      "61\n",
      "61 - APPAREL ARTICLES AND ACCESSORIES, KNIT OR CROCHET\n",
      "GLOBAL MARINE TRANSPORTATION INC\n",
      "C/O: GARSON&SHAW LLC1120 6TH AVE FL 4NEW YORK, NY 10036 USA212-717-7754\n",
      "NEW YORK/NEWARK AREA, NEWARK, NEW JERSEY\n",
      "Guatemala (GT)\n",
      "CMDUNAM4266571\n",
      "19.85\n",
      "47\n",
      "PACKAGE\n",
      "19850.11\n",
      "KG\n",
      "1\n",
      "1X40HC CONTAINER:BALESOF USED CREDENTIAL CLOTHING(ROPACREDENCIAL USADA)O THE BEGINNING OF THE VOYAGE SHIPPER AND ANY PARTY TO THIS BILL OFND PRACTICE THE CARRIER HAS ABSOLUTELY NO CONTROL ON CARGO ONCEIS MAY BE DONE WITHOUT SURRENDERING ORIGINAL BILL OF LADING TO SHIPNY CLAIM DUE TO DELIVERY OF CARGO WITHOUT ORIGINAL BILL OF LADING EL DECRETO 2685 DE 1999 LA NAVIERA DECLARA QUE ESTE TRANSPORTEL TRASLADO A UN DEPOSITO HABILITADO DIFERENTE O A ZONA FRANCA ES PORO LA NAVIERA DEBEN DAR EL PAZ Y SALVO POR HABER RECIBIDO EL PAGO DES OF LADING TO THE SHIP AGENT IN SUCH CASE THE CARRIER WILL NOT BEGINAL BILLS OF LADING THUS SHIPPER MUST ENSURE THEY ARE PAID FOR THEIRE HEREBY NOTIFIED THAT THE CARRIAGE OF CARGO MAY BE DISRUPTED OR\n",
      "202103\n",
      "CMDU\n",
      "CMA CGM\n",
      "NEW YORK, NY\n",
      "NEW YORK, NY\n",
      "10036 - NEW YORK, NY\n",
      "CONTSHIP ICE\n",
      "None\n",
      "NEW YORK, NY\n",
      "PUERTO BARRIOS\n",
      "GUATEMALA\n",
      "None\n",
      "NON REFRIGERATED\n",
      "0UA85S1MA\n",
      "Yes\n",
      "2021\n"
     ]
    }
   ],
   "source": [
    "from openpyxl import load_workbook\n",
    "\n",
    "wb = load_workbook('EXP0.xlsx')\n",
    "\n",
    "sheet = wb.active\n",
    "\n",
    "# Access all cells in row 1\n",
    "for data in sheet[\"2\"]:\n",
    "    print(data.value)"
   ]
  },
  {
   "cell_type": "code",
   "execution_count": null,
   "id": "e441667a",
   "metadata": {},
   "outputs": [],
   "source": []
  }
 ],
 "metadata": {
  "kernelspec": {
   "display_name": "Python 3",
   "language": "python",
   "name": "python3"
  },
  "language_info": {
   "codemirror_mode": {
    "name": "ipython",
    "version": 3
   },
   "file_extension": ".py",
   "mimetype": "text/x-python",
   "name": "python",
   "nbconvert_exporter": "python",
   "pygments_lexer": "ipython3",
   "version": "3.8.5"
  }
 },
 "nbformat": 4,
 "nbformat_minor": 5
}
